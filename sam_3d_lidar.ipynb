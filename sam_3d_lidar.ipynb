{
 "cells": [
  {
   "cell_type": "code",
   "execution_count": 1,
   "metadata": {},
   "outputs": [
    {
     "name": "stdout",
     "output_type": "stream",
     "text": [
      "Jupyter environment detected. Enabling Open3D WebVisualizer.\n",
      "[Open3D INFO] WebRTC GUI backend enabled.\n",
      "[Open3D INFO] WebRTCWindowSystem: HTTP handshake server disabled.\n"
     ]
    }
   ],
   "source": [
    "from segment_lidar import samlidar\n",
    "from segment_lidar import view"
   ]
  },
  {
   "cell_type": "code",
   "execution_count": 2,
   "metadata": {},
   "outputs": [],
   "source": [
    "viewpoint = view.TopView()\n",
    "viewpoint = view.PinholeView(interactive=True)"
   ]
  },
  {
   "cell_type": "code",
   "execution_count": 3,
   "metadata": {},
   "outputs": [],
   "source": [
    "model = samlidar.SamLidar(ckpt_path='segment_lidar/sam_vit_h_4b8939.pth',\n",
    "                        algorithm='segment-anything')\n"
   ]
  },
  {
   "cell_type": "code",
   "execution_count": 4,
   "metadata": {},
   "outputs": [
    {
     "name": "stdout",
     "output_type": "stream",
     "text": [
      "Reading segment_lidar/Data/pointcloud.las...\n",
      "- Classification value is not provided. Reading all points...\n",
      "- Reading RGB values...\n",
      "File reading is completed in 1.87 seconds. The point cloud contains 3402226 points.\n",
      "\n"
     ]
    }
   ],
   "source": [
    "points = model.read(\"segment_lidar/Data/pointcloud.las\")"
   ]
  },
  {
   "cell_type": "code",
   "execution_count": 5,
   "metadata": {},
   "outputs": [],
   "source": [
    "import os\n",
    "os.makedirs(\"results/\", exist_ok=True)"
   ]
  },
  {
   "cell_type": "code",
   "execution_count": 6,
   "metadata": {},
   "outputs": [
    {
     "name": "stdout",
     "output_type": "stream",
     "text": [
      "- Generating raster image...\n",
      "- Saving raster image...\n",
      "- Applying segment-anything to raster image...\n",
      "- Saving segmented image...\n",
      "- Saving segmented image...\n",
      "- Generating segment IDs...\n",
      "Segmentation is completed in 348.55 seconds. Number of instances: 12\n",
      "\n",
      "Writing the segmented point cloud to results/segmented.las...\n",
      "Writing is completed in 2.61 seconds.\n",
      "\n"
     ]
    }
   ],
   "source": [
    "labels, *_ = model.segment(points=points,\n",
    "                        view=viewpoint,\n",
    "                        image_path=\"results/raster.tif\",\n",
    "                        labels_path=\"results/labeled.tif\")\n",
    "\n",
    "model.write(points=points, segment_ids=labels, save_path=\"results/segmented.las\")"
   ]
  },
  {
   "cell_type": "code",
   "execution_count": null,
   "metadata": {},
   "outputs": [],
   "source": [
    "viewpoint = view.PinholeView(interactive=True)"
   ]
  },
  {
   "cell_type": "code",
   "execution_count": 7,
   "metadata": {},
   "outputs": [
    {
     "name": "stdout",
     "output_type": "stream",
     "text": [
      "Reading results/segmented.las...\n",
      "- Classification value is not provided. Reading all points...\n",
      "- Reading RGB values...\n",
      "File reading is completed in 0.28 seconds. The point cloud contains 3402226 points.\n",
      "\n"
     ]
    }
   ],
   "source": [
    "from segment_lidar.visualize import visualize\n",
    "points = model.read(\"results/segmented.las\")"
   ]
  },
  {
   "cell_type": "code",
   "execution_count": 8,
   "metadata": {},
   "outputs": [],
   "source": [
    "visualize(points)"
   ]
  },
  {
   "cell_type": "code",
   "execution_count": null,
   "metadata": {},
   "outputs": [],
   "source": []
  }
 ],
 "metadata": {
  "kernelspec": {
   "display_name": "Python 3",
   "language": "python",
   "name": "python3"
  },
  "language_info": {
   "codemirror_mode": {
    "name": "ipython",
    "version": 3
   },
   "file_extension": ".py",
   "mimetype": "text/x-python",
   "name": "python",
   "nbconvert_exporter": "python",
   "pygments_lexer": "ipython3",
   "version": "3.10.14"
  }
 },
 "nbformat": 4,
 "nbformat_minor": 2
}
